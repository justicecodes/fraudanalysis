{
 "cells": [
  {
   "cell_type": "code",
   "execution_count": 1,
   "id": "97e02d57",
   "metadata": {},
   "outputs": [],
   "source": [
    "import pandas as pd"
   ]
  },
  {
   "cell_type": "code",
   "execution_count": 45,
   "id": "ff4afc9a",
   "metadata": {},
   "outputs": [
    {
     "data": {
      "text/html": [
       "<div>\n",
       "<style scoped>\n",
       "    .dataframe tbody tr th:only-of-type {\n",
       "        vertical-align: middle;\n",
       "    }\n",
       "\n",
       "    .dataframe tbody tr th {\n",
       "        vertical-align: top;\n",
       "    }\n",
       "\n",
       "    .dataframe thead th {\n",
       "        text-align: right;\n",
       "    }\n",
       "</style>\n",
       "<table border=\"1\" class=\"dataframe\">\n",
       "  <thead>\n",
       "    <tr style=\"text-align: right;\">\n",
       "      <th></th>\n",
       "      <th>zip</th>\n",
       "      <th>city_pop</th>\n",
       "      <th>avg_income</th>\n",
       "      <th>amt</th>\n",
       "      <th>category</th>\n",
       "      <th>is_fraud</th>\n",
       "      <th>gender</th>\n",
       "      <th>dob</th>\n",
       "      <th>age</th>\n",
       "      <th>agegroup</th>\n",
       "      <th>time</th>\n",
       "      <th>timeofday</th>\n",
       "    </tr>\n",
       "  </thead>\n",
       "  <tbody>\n",
       "    <tr>\n",
       "      <th>2052</th>\n",
       "      <td>28611</td>\n",
       "      <td>885</td>\n",
       "      <td>51812.9</td>\n",
       "      <td>281.06</td>\n",
       "      <td>grocery_pos</td>\n",
       "      <td>1</td>\n",
       "      <td>M</td>\n",
       "      <td>1988-09-15</td>\n",
       "      <td>34</td>\n",
       "      <td>Middle_Aged</td>\n",
       "      <td>1</td>\n",
       "      <td>Early Morning</td>\n",
       "    </tr>\n",
       "    <tr>\n",
       "      <th>2072</th>\n",
       "      <td>78208</td>\n",
       "      <td>1595797</td>\n",
       "      <td>35852.1</td>\n",
       "      <td>11.52</td>\n",
       "      <td>gas_transport</td>\n",
       "      <td>1</td>\n",
       "      <td>F</td>\n",
       "      <td>1960-10-28</td>\n",
       "      <td>61</td>\n",
       "      <td>Older_Adult</td>\n",
       "      <td>1</td>\n",
       "      <td>Early Morning</td>\n",
       "    </tr>\n",
       "    <tr>\n",
       "      <th>2117</th>\n",
       "      <td>78208</td>\n",
       "      <td>1595797</td>\n",
       "      <td>35852.1</td>\n",
       "      <td>276.31</td>\n",
       "      <td>grocery_pos</td>\n",
       "      <td>1</td>\n",
       "      <td>F</td>\n",
       "      <td>1960-10-28</td>\n",
       "      <td>61</td>\n",
       "      <td>Older_Adult</td>\n",
       "      <td>3</td>\n",
       "      <td>Early Morning</td>\n",
       "    </tr>\n",
       "    <tr>\n",
       "      <th>2135</th>\n",
       "      <td>28611</td>\n",
       "      <td>885</td>\n",
       "      <td>51812.9</td>\n",
       "      <td>7.03</td>\n",
       "      <td>gas_transport</td>\n",
       "      <td>1</td>\n",
       "      <td>M</td>\n",
       "      <td>1988-09-15</td>\n",
       "      <td>34</td>\n",
       "      <td>Middle_Aged</td>\n",
       "      <td>3</td>\n",
       "      <td>Early Morning</td>\n",
       "    </tr>\n",
       "    <tr>\n",
       "      <th>2140</th>\n",
       "      <td>78208</td>\n",
       "      <td>1595797</td>\n",
       "      <td>35852.1</td>\n",
       "      <td>275.73</td>\n",
       "      <td>grocery_pos</td>\n",
       "      <td>1</td>\n",
       "      <td>F</td>\n",
       "      <td>1960-10-28</td>\n",
       "      <td>61</td>\n",
       "      <td>Older_Adult</td>\n",
       "      <td>3</td>\n",
       "      <td>Early Morning</td>\n",
       "    </tr>\n",
       "    <tr>\n",
       "      <th>...</th>\n",
       "      <td>...</td>\n",
       "      <td>...</td>\n",
       "      <td>...</td>\n",
       "      <td>...</td>\n",
       "      <td>...</td>\n",
       "      <td>...</td>\n",
       "      <td>...</td>\n",
       "      <td>...</td>\n",
       "      <td>...</td>\n",
       "      <td>...</td>\n",
       "      <td>...</td>\n",
       "      <td>...</td>\n",
       "    </tr>\n",
       "    <tr>\n",
       "      <th>1074817</th>\n",
       "      <td>32960</td>\n",
       "      <td>105638</td>\n",
       "      <td>57063.2</td>\n",
       "      <td>9.18</td>\n",
       "      <td>misc_pos</td>\n",
       "      <td>1</td>\n",
       "      <td>F</td>\n",
       "      <td>1986-05-07</td>\n",
       "      <td>36</td>\n",
       "      <td>Middle_Aged</td>\n",
       "      <td>0</td>\n",
       "      <td>Early Morning</td>\n",
       "    </tr>\n",
       "    <tr>\n",
       "      <th>1074884</th>\n",
       "      <td>32960</td>\n",
       "      <td>105638</td>\n",
       "      <td>57063.2</td>\n",
       "      <td>977.01</td>\n",
       "      <td>shopping_net</td>\n",
       "      <td>1</td>\n",
       "      <td>F</td>\n",
       "      <td>1986-05-07</td>\n",
       "      <td>36</td>\n",
       "      <td>Middle_Aged</td>\n",
       "      <td>1</td>\n",
       "      <td>Early Morning</td>\n",
       "    </tr>\n",
       "    <tr>\n",
       "      <th>1074956</th>\n",
       "      <td>32960</td>\n",
       "      <td>105638</td>\n",
       "      <td>57063.2</td>\n",
       "      <td>1210.91</td>\n",
       "      <td>shopping_net</td>\n",
       "      <td>1</td>\n",
       "      <td>F</td>\n",
       "      <td>1986-05-07</td>\n",
       "      <td>36</td>\n",
       "      <td>Middle_Aged</td>\n",
       "      <td>1</td>\n",
       "      <td>Early Morning</td>\n",
       "    </tr>\n",
       "    <tr>\n",
       "      <th>1074989</th>\n",
       "      <td>70726</td>\n",
       "      <td>71335</td>\n",
       "      <td>59500.0</td>\n",
       "      <td>10.24</td>\n",
       "      <td>gas_transport</td>\n",
       "      <td>1</td>\n",
       "      <td>M</td>\n",
       "      <td>1994-05-31</td>\n",
       "      <td>28</td>\n",
       "      <td>Young_Adult</td>\n",
       "      <td>2</td>\n",
       "      <td>Early Morning</td>\n",
       "    </tr>\n",
       "    <tr>\n",
       "      <th>1075154</th>\n",
       "      <td>70726</td>\n",
       "      <td>71335</td>\n",
       "      <td>59500.0</td>\n",
       "      <td>10.20</td>\n",
       "      <td>gas_transport</td>\n",
       "      <td>1</td>\n",
       "      <td>M</td>\n",
       "      <td>1994-05-31</td>\n",
       "      <td>28</td>\n",
       "      <td>Young_Adult</td>\n",
       "      <td>3</td>\n",
       "      <td>Early Morning</td>\n",
       "    </tr>\n",
       "  </tbody>\n",
       "</table>\n",
       "<p>6214 rows × 12 columns</p>\n",
       "</div>"
      ],
      "text/plain": [
       "           zip  city_pop  avg_income      amt       category  is_fraud gender  \\\n",
       "2052     28611       885     51812.9   281.06    grocery_pos         1      M   \n",
       "2072     78208   1595797     35852.1    11.52  gas_transport         1      F   \n",
       "2117     78208   1595797     35852.1   276.31    grocery_pos         1      F   \n",
       "2135     28611       885     51812.9     7.03  gas_transport         1      M   \n",
       "2140     78208   1595797     35852.1   275.73    grocery_pos         1      F   \n",
       "...        ...       ...         ...      ...            ...       ...    ...   \n",
       "1074817  32960    105638     57063.2     9.18       misc_pos         1      F   \n",
       "1074884  32960    105638     57063.2   977.01   shopping_net         1      F   \n",
       "1074956  32960    105638     57063.2  1210.91   shopping_net         1      F   \n",
       "1074989  70726     71335     59500.0    10.24  gas_transport         1      M   \n",
       "1075154  70726     71335     59500.0    10.20  gas_transport         1      M   \n",
       "\n",
       "                dob  age     agegroup  time      timeofday  \n",
       "2052     1988-09-15   34  Middle_Aged     1  Early Morning  \n",
       "2072     1960-10-28   61  Older_Adult     1  Early Morning  \n",
       "2117     1960-10-28   61  Older_Adult     3  Early Morning  \n",
       "2135     1988-09-15   34  Middle_Aged     3  Early Morning  \n",
       "2140     1960-10-28   61  Older_Adult     3  Early Morning  \n",
       "...             ...  ...          ...   ...            ...  \n",
       "1074817  1986-05-07   36  Middle_Aged     0  Early Morning  \n",
       "1074884  1986-05-07   36  Middle_Aged     1  Early Morning  \n",
       "1074956  1986-05-07   36  Middle_Aged     1  Early Morning  \n",
       "1074989  1994-05-31   28  Young_Adult     2  Early Morning  \n",
       "1075154  1994-05-31   28  Young_Adult     3  Early Morning  \n",
       "\n",
       "[6214 rows x 12 columns]"
      ]
     },
     "execution_count": 45,
     "metadata": {},
     "output_type": "execute_result"
    }
   ],
   "source": [
    "#reading csv file\n",
    "finalFraudData_df = pd.read_csv(\"finalFraudData.csv\")\n",
    "\n",
    "onlyFraudData_df = finalFraudData_df[finalFraudData_df.is_fraud==1]\n",
    "onlyFraudData_df"
   ]
  },
  {
   "cell_type": "code",
   "execution_count": 71,
   "id": "dec3bdbe",
   "metadata": {},
   "outputs": [
    {
     "data": {
      "text/plain": [
       "gender\n",
       "F    3063\n",
       "M    3151\n",
       "Name: is_fraud, dtype: int64"
      ]
     },
     "execution_count": 71,
     "metadata": {},
     "output_type": "execute_result"
    }
   ],
   "source": [
    "#  1. Get the fraud count based on gender\n",
    "numfraud_by_gender = onlyFraudData_df.groupby([\"gender\"]).count()[\"is_fraud\"]\n",
    "numfraud_by_gender"
   ]
  },
  {
   "cell_type": "code",
   "execution_count": 72,
   "id": "12500f9a",
   "metadata": {},
   "outputs": [
    {
     "data": {
      "text/plain": [
       "zip\n",
       "73754    3646\n",
       "34112    3613\n",
       "48088    3597\n",
       "82514    3527\n",
       "85173    3119\n",
       "         ... \n",
       "10018       7\n",
       "23523       7\n",
       "95688       7\n",
       "37411       7\n",
       "16041       7\n",
       "Name: is_fraud, Length: 819, dtype: int64"
      ]
     },
     "execution_count": 72,
     "metadata": {},
     "output_type": "execute_result"
    }
   ],
   "source": [
    "#  1. Get the fraud count based on zip\n",
    "numfraud_by_zip = finalFraudData_df.groupby([\"zip\"]).count()[\"is_fraud\"].sort_values(ascending=False)\n",
    "numfraud_by_zip"
   ]
  },
  {
   "cell_type": "code",
   "execution_count": 50,
   "id": "d2a35299",
   "metadata": {},
   "outputs": [
    {
     "data": {
      "text/plain": [
       "category\n",
       "grocery_pos       1430\n",
       "shopping_net      1408\n",
       "misc_net           752\n",
       "shopping_pos       724\n",
       "gas_transport      500\n",
       "misc_pos           211\n",
       "entertainment      206\n",
       "kids_pets          193\n",
       "personal_care      185\n",
       "home               171\n",
       "food_dining        131\n",
       "health_fitness     108\n",
       "grocery_net        100\n",
       "travel              95\n",
       "Name: is_fraud, dtype: int64"
      ]
     },
     "execution_count": 50,
     "metadata": {},
     "output_type": "execute_result"
    }
   ],
   "source": [
    "#  1. Get the fraud count based on category\n",
    "numfraud_by_category = onlyFraudData_df.groupby([\"category\"]).count()[\"is_fraud\"].sort_values(ascending=False)\n",
    "numfraud_by_category"
   ]
  },
  {
   "cell_type": "code",
   "execution_count": 73,
   "id": "f482b33c",
   "metadata": {},
   "outputs": [
    {
     "data": {
      "text/plain": [
       "532.6027470228515"
      ]
     },
     "execution_count": 73,
     "metadata": {},
     "output_type": "execute_result"
    }
   ],
   "source": [
    "# Get the amount by category.\n",
    "avgFraud_amt = onlyFraudData_df[\"amt\"].mean()\n",
    "avgFraud_amt"
   ]
  },
  {
   "cell_type": "code",
   "execution_count": 74,
   "id": "4c74a3a6",
   "metadata": {},
   "outputs": [
    {
     "data": {
      "text/plain": [
       "agegroup\n",
       "Middle_Aged    2039\n",
       "Minor            23\n",
       "Older_Adult    1772\n",
       "Senior         1488\n",
       "Young_Adult     892\n",
       "Name: is_fraud, dtype: int64"
      ]
     },
     "execution_count": 74,
     "metadata": {},
     "output_type": "execute_result"
    }
   ],
   "source": [
    "# Get the fraud count based on age\n",
    "numfraud_by_ag = onlyFraudData_df.groupby([\"agegroup\"]).count()[\"is_fraud\"]\n",
    "numfraud_by_ag"
   ]
  },
  {
   "cell_type": "code",
   "execution_count": 75,
   "id": "f5ca232e",
   "metadata": {},
   "outputs": [
    {
     "data": {
      "text/plain": [
       "timeofday\n",
       "Afternoon         251\n",
       "Early Morning    2234\n",
       "Evening           259\n",
       "Morning           198\n",
       "Night            3272\n",
       "Name: is_fraud, dtype: int64"
      ]
     },
     "execution_count": 75,
     "metadata": {},
     "output_type": "execute_result"
    }
   ],
   "source": [
    "# #  1. Get the fraud count based on time of day\n",
    "numfraud_by_tod = onlyFraudData_df.groupby([\"timeofday\"]).count()[\"is_fraud\"]\n",
    "numfraud_by_tod"
   ]
  },
  {
   "cell_type": "code",
   "execution_count": 77,
   "id": "2a874479",
   "metadata": {},
   "outputs": [
    {
     "name": "stdout",
     "output_type": "stream",
     "text": [
      "563934.0\n",
      "466791.0\n",
      "346421.0\n",
      "292955.0\n",
      "287199.0\n",
      "265253.0\n",
      "255362.0\n",
      "249398.0\n",
      "241960.0\n",
      "232738.0\n"
     ]
    }
   ],
   "source": [
    "# Top 10 avg_income\n",
    "top_avgIncome = onlyFraudData_df[\"avg_income\"].unique()\n",
    "for i in range (0,10):\n",
    "    print(sorted(top_avgIncome, reverse=True)[i])\n"
   ]
  },
  {
   "cell_type": "code",
   "execution_count": null,
   "id": "1f4af065",
   "metadata": {},
   "outputs": [],
   "source": []
  }
 ],
 "metadata": {
  "kernelspec": {
   "display_name": "Python 3 (ipykernel)",
   "language": "python",
   "name": "python3"
  },
  "language_info": {
   "codemirror_mode": {
    "name": "ipython",
    "version": 3
   },
   "file_extension": ".py",
   "mimetype": "text/x-python",
   "name": "python",
   "nbconvert_exporter": "python",
   "pygments_lexer": "ipython3",
   "version": "3.9.7"
  }
 },
 "nbformat": 4,
 "nbformat_minor": 5
}
