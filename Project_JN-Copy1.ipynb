{
 "cells": [
  {
   "cell_type": "code",
   "execution_count": 1,
   "id": "95bc31d4",
   "metadata": {},
   "outputs": [],
   "source": [
    "# Dependencies\n",
    "import numpy as np\n",
    "import pandas as pd\n",
    "import time\n"
   ]
  },
  {
   "cell_type": "code",
   "execution_count": null,
   "id": "5a502b5a",
   "metadata": {},
   "outputs": [],
   "source": [
    "pwd"
   ]
  },
  {
   "cell_type": "code",
   "execution_count": null,
   "id": "6a47997c",
   "metadata": {},
   "outputs": [],
   "source": [
    "fraudTrain_df = pd.read_csv(\"./Data/fraudTrain.csv\")\n",
    "fraudTrain_df"
   ]
  },
  {
   "cell_type": "code",
   "execution_count": null,
   "id": "7d1be3e7",
   "metadata": {},
   "outputs": [],
   "source": [
    "# read_csv function which is used to read the required CSV file\n",
    "df = pd.read_csv(\"./Data/fraudTrain.csv\")\n",
    "\n",
    "\n",
    "df = df.drop(['cc_num','merchant','street', 'trans_date_trans_time','first','last','city','state','job','trans_num' ], axis='columns')\n",
    "df = df.set_index('Unnamed: 0')\n",
    "\n",
    "\n",
    "\n",
    "\n",
    "# display \n",
    "df.head()"
   ]
  },
  {
   "cell_type": "code",
   "execution_count": null,
   "id": "87338ff6",
   "metadata": {
    "scrolled": false
   },
   "outputs": [],
   "source": [
    "fraudTrain_df.dtypes"
   ]
  },
  {
   "cell_type": "code",
   "execution_count": null,
   "id": "f20da009",
   "metadata": {},
   "outputs": [],
   "source": [
    "# Identify incomplete rows\n",
    "fraudTrain_df.count()"
   ]
  },
  {
   "cell_type": "code",
   "execution_count": null,
   "id": "e38c2d31",
   "metadata": {},
   "outputs": [],
   "source": [
    "# converting amt column to include $ sign\n",
    "# fraudTrain_df['amt'] = ('$' + fraudTrain_df['amt'].astype(str))\n",
    "\n",
    "print(fraudTrain_df.dtypes)\n",
    "fraudTrain_df"
   ]
  },
  {
   "cell_type": "code",
   "execution_count": null,
   "id": "26f76b87",
   "metadata": {
    "scrolled": true
   },
   "outputs": [],
   "source": [
    "# Creating Age column\n",
    "\n",
    "from datetime import datetime\n",
    "from datetime import date\n",
    "\n",
    "def age(born):\n",
    "    born = datetime.strptime(born, \"%Y-%m-%d\").date()\n",
    "    today = date.today()\n",
    "    return today.year - born.year - ((today.month, \n",
    "                                      today.day) < (born.month, \n",
    "                                                    born.day))\n",
    "  \n",
    "fraudTrain_df['Age'] = df['dob'].apply(age)\n",
    "fraudTrain_df.head()"
   ]
  },
  {
   "cell_type": "code",
   "execution_count": null,
   "id": "bca91eb6",
   "metadata": {},
   "outputs": [],
   "source": [
    "# Creating age buckets\n",
    "fraudTrain_df['AgeGroup'] = pd.DataFrame({'Age':[0,18,30,50,65,110]})\n",
    "\n",
    "bins= [0,18,30,50,65,120]\n",
    "labels = ['Minor','Young_Adult','Middle_Aged','Older_Adult','Senior']\n",
    "fraudTrain_df['AgeGroup'] = pd.cut(fraudTrain_df['Age'], bins=bins, labels=labels, right=False)\n",
    "\n",
    "fraudTrain_df.head()"
   ]
  },
  {
   "cell_type": "code",
   "execution_count": null,
   "id": "ecec3791",
   "metadata": {},
   "outputs": [],
   "source": [
    "fraudTrain_df['trans_date_trans_time'] =  pd.to_datetime(fraudTrain_df['trans_date_trans_time'])"
   ]
  },
  {
   "cell_type": "code",
   "execution_count": null,
   "id": "1ab11cdb",
   "metadata": {},
   "outputs": [],
   "source": [
    "fraudTrain_df['time'] = fraudTrain_df['trans_date_trans_time'].dt.hour"
   ]
  },
  {
   "cell_type": "code",
   "execution_count": null,
   "id": "be9bddd9",
   "metadata": {
    "scrolled": true
   },
   "outputs": [],
   "source": [
    "# Creating Time of day buckets column\n",
    "fraudTrain_df['TimeOfDay'] = pd.DataFrame({'time':[0,7,12,16,20,24]})\n",
    "\n",
    "bins= [0,7,12,16,20,24]\n",
    "labels = ['Early Morning','Morning','Afternoon','Evening','Night']\n",
    "fraudTrain_df['TimeOfDay'] = pd.cut(fraudTrain_df['time'], bins=bins, labels=labels, right=False)\n",
    "\n",
    "fraudTrain_df"
   ]
  },
  {
   "cell_type": "code",
   "execution_count": null,
   "id": "31c615aa",
   "metadata": {},
   "outputs": [],
   "source": [
    "fraudTrain_df.to_csv('./Data/cleanfraudTrain.csv')"
   ]
  },
  {
   "cell_type": "code",
   "execution_count": 2,
   "id": "84fad241",
   "metadata": {},
   "outputs": [
    {
     "data": {
      "text/html": [
       "<div>\n",
       "<style scoped>\n",
       "    .dataframe tbody tr th:only-of-type {\n",
       "        vertical-align: middle;\n",
       "    }\n",
       "\n",
       "    .dataframe tbody tr th {\n",
       "        vertical-align: top;\n",
       "    }\n",
       "\n",
       "    .dataframe thead th {\n",
       "        text-align: right;\n",
       "    }\n",
       "</style>\n",
       "<table border=\"1\" class=\"dataframe\">\n",
       "  <thead>\n",
       "    <tr style=\"text-align: right;\">\n",
       "      <th></th>\n",
       "      <th>state</th>\n",
       "      <th>zipcode</th>\n",
       "      <th>total_pop</th>\n",
       "      <th>total_income</th>\n",
       "      <th>country</th>\n",
       "      <th>avg_income</th>\n",
       "    </tr>\n",
       "  </thead>\n",
       "  <tbody>\n",
       "    <tr>\n",
       "      <th>0</th>\n",
       "      <td>AK</td>\n",
       "      <td>0</td>\n",
       "      <td>345220</td>\n",
       "      <td>25354974</td>\n",
       "      <td>USA</td>\n",
       "      <td>73445.843230</td>\n",
       "    </tr>\n",
       "    <tr>\n",
       "      <th>1</th>\n",
       "      <td>AK</td>\n",
       "      <td>99501</td>\n",
       "      <td>7690</td>\n",
       "      <td>612242</td>\n",
       "      <td>USA</td>\n",
       "      <td>79615.344603</td>\n",
       "    </tr>\n",
       "    <tr>\n",
       "      <th>2</th>\n",
       "      <td>AK</td>\n",
       "      <td>99502</td>\n",
       "      <td>11860</td>\n",
       "      <td>1000685</td>\n",
       "      <td>USA</td>\n",
       "      <td>84374.789207</td>\n",
       "    </tr>\n",
       "    <tr>\n",
       "      <th>3</th>\n",
       "      <td>AK</td>\n",
       "      <td>99503</td>\n",
       "      <td>7510</td>\n",
       "      <td>462394</td>\n",
       "      <td>USA</td>\n",
       "      <td>61570.439414</td>\n",
       "    </tr>\n",
       "    <tr>\n",
       "      <th>4</th>\n",
       "      <td>AK</td>\n",
       "      <td>99504</td>\n",
       "      <td>19440</td>\n",
       "      <td>1176109</td>\n",
       "      <td>USA</td>\n",
       "      <td>60499.434156</td>\n",
       "    </tr>\n",
       "    <tr>\n",
       "      <th>...</th>\n",
       "      <td>...</td>\n",
       "      <td>...</td>\n",
       "      <td>...</td>\n",
       "      <td>...</td>\n",
       "      <td>...</td>\n",
       "      <td>...</td>\n",
       "    </tr>\n",
       "    <tr>\n",
       "      <th>27653</th>\n",
       "      <td>WY</td>\n",
       "      <td>83126</td>\n",
       "      <td>200</td>\n",
       "      <td>17041</td>\n",
       "      <td>USA</td>\n",
       "      <td>85205.000000</td>\n",
       "    </tr>\n",
       "    <tr>\n",
       "      <th>27654</th>\n",
       "      <td>WY</td>\n",
       "      <td>83127</td>\n",
       "      <td>1620</td>\n",
       "      <td>135778</td>\n",
       "      <td>USA</td>\n",
       "      <td>83813.580247</td>\n",
       "    </tr>\n",
       "    <tr>\n",
       "      <th>27655</th>\n",
       "      <td>WY</td>\n",
       "      <td>83128</td>\n",
       "      <td>950</td>\n",
       "      <td>119435</td>\n",
       "      <td>USA</td>\n",
       "      <td>125721.052632</td>\n",
       "    </tr>\n",
       "    <tr>\n",
       "      <th>27656</th>\n",
       "      <td>WY</td>\n",
       "      <td>83414</td>\n",
       "      <td>230</td>\n",
       "      <td>60700</td>\n",
       "      <td>USA</td>\n",
       "      <td>263913.043478</td>\n",
       "    </tr>\n",
       "    <tr>\n",
       "      <th>27657</th>\n",
       "      <td>WY</td>\n",
       "      <td>99999</td>\n",
       "      <td>15820</td>\n",
       "      <td>1376755</td>\n",
       "      <td>USA</td>\n",
       "      <td>87026.232617</td>\n",
       "    </tr>\n",
       "  </tbody>\n",
       "</table>\n",
       "<p>27658 rows × 6 columns</p>\n",
       "</div>"
      ],
      "text/plain": [
       "      state  zipcode  total_pop  total_income country     avg_income\n",
       "0        AK        0     345220      25354974     USA   73445.843230\n",
       "1        AK    99501       7690        612242     USA   79615.344603\n",
       "2        AK    99502      11860       1000685     USA   84374.789207\n",
       "3        AK    99503       7510        462394     USA   61570.439414\n",
       "4        AK    99504      19440       1176109     USA   60499.434156\n",
       "...     ...      ...        ...           ...     ...            ...\n",
       "27653    WY    83126        200         17041     USA   85205.000000\n",
       "27654    WY    83127       1620        135778     USA   83813.580247\n",
       "27655    WY    83128        950        119435     USA  125721.052632\n",
       "27656    WY    83414        230         60700     USA  263913.043478\n",
       "27657    WY    99999      15820       1376755     USA   87026.232617\n",
       "\n",
       "[27658 rows x 6 columns]"
      ]
     },
     "execution_count": 2,
     "metadata": {},
     "output_type": "execute_result"
    }
   ],
   "source": [
    "Postcodes_df = pd.read_csv(\"./Data/Postcodes.csv\")\n",
    "Postcodes_df"
   ]
  },
  {
   "cell_type": "code",
   "execution_count": 3,
   "id": "fdb99bda",
   "metadata": {},
   "outputs": [
    {
     "data": {
      "text/plain": [
       "state            object\n",
       "zipcode           int64\n",
       "total_pop         int64\n",
       "total_income      int64\n",
       "country          object\n",
       "avg_income      float64\n",
       "dtype: object"
      ]
     },
     "execution_count": 3,
     "metadata": {},
     "output_type": "execute_result"
    }
   ],
   "source": [
    "Postcodes_df.dtypes"
   ]
  },
  {
   "cell_type": "code",
   "execution_count": 4,
   "id": "d918a5a6",
   "metadata": {},
   "outputs": [
    {
     "data": {
      "text/html": [
       "<div>\n",
       "<style scoped>\n",
       "    .dataframe tbody tr th:only-of-type {\n",
       "        vertical-align: middle;\n",
       "    }\n",
       "\n",
       "    .dataframe tbody tr th {\n",
       "        vertical-align: top;\n",
       "    }\n",
       "\n",
       "    .dataframe thead th {\n",
       "        text-align: right;\n",
       "    }\n",
       "</style>\n",
       "<table border=\"1\" class=\"dataframe\">\n",
       "  <thead>\n",
       "    <tr style=\"text-align: right;\">\n",
       "      <th></th>\n",
       "      <th>avg_income</th>\n",
       "    </tr>\n",
       "    <tr>\n",
       "      <th>zipcode</th>\n",
       "      <th></th>\n",
       "    </tr>\n",
       "  </thead>\n",
       "  <tbody>\n",
       "    <tr>\n",
       "      <th>0</th>\n",
       "      <td>73445.843230</td>\n",
       "    </tr>\n",
       "    <tr>\n",
       "      <th>99501</th>\n",
       "      <td>79615.344603</td>\n",
       "    </tr>\n",
       "    <tr>\n",
       "      <th>99502</th>\n",
       "      <td>84374.789207</td>\n",
       "    </tr>\n",
       "    <tr>\n",
       "      <th>99503</th>\n",
       "      <td>61570.439414</td>\n",
       "    </tr>\n",
       "    <tr>\n",
       "      <th>99504</th>\n",
       "      <td>60499.434156</td>\n",
       "    </tr>\n",
       "  </tbody>\n",
       "</table>\n",
       "</div>"
      ],
      "text/plain": [
       "           avg_income\n",
       "zipcode              \n",
       "0        73445.843230\n",
       "99501    79615.344603\n",
       "99502    84374.789207\n",
       "99503    61570.439414\n",
       "99504    60499.434156"
      ]
     },
     "execution_count": 4,
     "metadata": {},
     "output_type": "execute_result"
    }
   ],
   "source": [
    "# read_csv function which is used to read the required CSV file\n",
    "df = pd.read_csv(\"./Data/Postcodes.csv\")\n",
    "\n",
    "\n",
    "df = df.drop(['state','total_pop','total_income', 'country'], axis='columns')\n",
    "df = df.set_index('zipcode')\n",
    "\n",
    "\n",
    "\n",
    "\n",
    "# display \n",
    "df.head()"
   ]
  },
  {
   "cell_type": "code",
   "execution_count": 5,
   "id": "b6df6931",
   "metadata": {},
   "outputs": [
    {
     "data": {
      "text/plain": [
       "0         73445.84\n",
       "1         79615.34\n",
       "2         84374.79\n",
       "3         61570.44\n",
       "4         60499.43\n",
       "           ...    \n",
       "27653     85205.00\n",
       "27654     83813.58\n",
       "27655    125721.05\n",
       "27656    263913.04\n",
       "27657     87026.23\n",
       "Name: avg_income, Length: 27658, dtype: float64"
      ]
     },
     "execution_count": 5,
     "metadata": {},
     "output_type": "execute_result"
    }
   ],
   "source": [
    "#Rounding to 2 decimal points\n",
    "Postcodes_df['avg_income'].apply(lambda x: round(x,2))"
   ]
  },
  {
   "cell_type": "code",
   "execution_count": 6,
   "id": "2910a1e6",
   "metadata": {},
   "outputs": [
    {
     "name": "stdout",
     "output_type": "stream",
     "text": [
      "state            object\n",
      "zipcode           int64\n",
      "total_pop         int64\n",
      "total_income      int64\n",
      "country          object\n",
      "avg_income      float64\n",
      "dtype: object\n"
     ]
    },
    {
     "data": {
      "text/html": [
       "<div>\n",
       "<style scoped>\n",
       "    .dataframe tbody tr th:only-of-type {\n",
       "        vertical-align: middle;\n",
       "    }\n",
       "\n",
       "    .dataframe tbody tr th {\n",
       "        vertical-align: top;\n",
       "    }\n",
       "\n",
       "    .dataframe thead th {\n",
       "        text-align: right;\n",
       "    }\n",
       "</style>\n",
       "<table border=\"1\" class=\"dataframe\">\n",
       "  <thead>\n",
       "    <tr style=\"text-align: right;\">\n",
       "      <th></th>\n",
       "      <th>state</th>\n",
       "      <th>zipcode</th>\n",
       "      <th>total_pop</th>\n",
       "      <th>total_income</th>\n",
       "      <th>country</th>\n",
       "      <th>avg_income</th>\n",
       "    </tr>\n",
       "  </thead>\n",
       "  <tbody>\n",
       "    <tr>\n",
       "      <th>0</th>\n",
       "      <td>AK</td>\n",
       "      <td>0</td>\n",
       "      <td>345220</td>\n",
       "      <td>25354974</td>\n",
       "      <td>USA</td>\n",
       "      <td>73445.84</td>\n",
       "    </tr>\n",
       "    <tr>\n",
       "      <th>1</th>\n",
       "      <td>AK</td>\n",
       "      <td>99501</td>\n",
       "      <td>7690</td>\n",
       "      <td>612242</td>\n",
       "      <td>USA</td>\n",
       "      <td>79615.34</td>\n",
       "    </tr>\n",
       "    <tr>\n",
       "      <th>2</th>\n",
       "      <td>AK</td>\n",
       "      <td>99502</td>\n",
       "      <td>11860</td>\n",
       "      <td>1000685</td>\n",
       "      <td>USA</td>\n",
       "      <td>84374.79</td>\n",
       "    </tr>\n",
       "    <tr>\n",
       "      <th>3</th>\n",
       "      <td>AK</td>\n",
       "      <td>99503</td>\n",
       "      <td>7510</td>\n",
       "      <td>462394</td>\n",
       "      <td>USA</td>\n",
       "      <td>61570.44</td>\n",
       "    </tr>\n",
       "    <tr>\n",
       "      <th>4</th>\n",
       "      <td>AK</td>\n",
       "      <td>99504</td>\n",
       "      <td>19440</td>\n",
       "      <td>1176109</td>\n",
       "      <td>USA</td>\n",
       "      <td>60499.43</td>\n",
       "    </tr>\n",
       "    <tr>\n",
       "      <th>...</th>\n",
       "      <td>...</td>\n",
       "      <td>...</td>\n",
       "      <td>...</td>\n",
       "      <td>...</td>\n",
       "      <td>...</td>\n",
       "      <td>...</td>\n",
       "    </tr>\n",
       "    <tr>\n",
       "      <th>27653</th>\n",
       "      <td>WY</td>\n",
       "      <td>83126</td>\n",
       "      <td>200</td>\n",
       "      <td>17041</td>\n",
       "      <td>USA</td>\n",
       "      <td>85205.00</td>\n",
       "    </tr>\n",
       "    <tr>\n",
       "      <th>27654</th>\n",
       "      <td>WY</td>\n",
       "      <td>83127</td>\n",
       "      <td>1620</td>\n",
       "      <td>135778</td>\n",
       "      <td>USA</td>\n",
       "      <td>83813.58</td>\n",
       "    </tr>\n",
       "    <tr>\n",
       "      <th>27655</th>\n",
       "      <td>WY</td>\n",
       "      <td>83128</td>\n",
       "      <td>950</td>\n",
       "      <td>119435</td>\n",
       "      <td>USA</td>\n",
       "      <td>125721.05</td>\n",
       "    </tr>\n",
       "    <tr>\n",
       "      <th>27656</th>\n",
       "      <td>WY</td>\n",
       "      <td>83414</td>\n",
       "      <td>230</td>\n",
       "      <td>60700</td>\n",
       "      <td>USA</td>\n",
       "      <td>263913.04</td>\n",
       "    </tr>\n",
       "    <tr>\n",
       "      <th>27657</th>\n",
       "      <td>WY</td>\n",
       "      <td>99999</td>\n",
       "      <td>15820</td>\n",
       "      <td>1376755</td>\n",
       "      <td>USA</td>\n",
       "      <td>87026.23</td>\n",
       "    </tr>\n",
       "  </tbody>\n",
       "</table>\n",
       "<p>27658 rows × 6 columns</p>\n",
       "</div>"
      ],
      "text/plain": [
       "      state  zipcode  total_pop  total_income country  avg_income\n",
       "0        AK        0     345220      25354974     USA    73445.84\n",
       "1        AK    99501       7690        612242     USA    79615.34\n",
       "2        AK    99502      11860       1000685     USA    84374.79\n",
       "3        AK    99503       7510        462394     USA    61570.44\n",
       "4        AK    99504      19440       1176109     USA    60499.43\n",
       "...     ...      ...        ...           ...     ...         ...\n",
       "27653    WY    83126        200         17041     USA    85205.00\n",
       "27654    WY    83127       1620        135778     USA    83813.58\n",
       "27655    WY    83128        950        119435     USA   125721.05\n",
       "27656    WY    83414        230         60700     USA   263913.04\n",
       "27657    WY    99999      15820       1376755     USA    87026.23\n",
       "\n",
       "[27658 rows x 6 columns]"
      ]
     },
     "execution_count": 6,
     "metadata": {},
     "output_type": "execute_result"
    }
   ],
   "source": [
    "#Rounding to 2 decimal points\n",
    "Postcodes_df['avg_income'] = Postcodes_df['avg_income'].apply(lambda x: round(x,2))\n",
    "\n",
    "# converting avg_income column to include $ sign\n",
    "# Postcodes_df['avg_income'] = Postcodes_df['avg_income'].apply(lambda x: f'${x}')\n",
    "\n",
    "\n",
    "print(Postcodes_df.dtypes)\n",
    "Postcodes_df"
   ]
  },
  {
   "cell_type": "code",
   "execution_count": 7,
   "id": "4ae8badb",
   "metadata": {},
   "outputs": [],
   "source": [
    "Postcodes_df.to_csv('./Data/cleanPostcodes.csv')"
   ]
  },
  {
   "cell_type": "code",
   "execution_count": null,
   "id": "cbf831ab",
   "metadata": {},
   "outputs": [],
   "source": []
  },
  {
   "cell_type": "code",
   "execution_count": null,
   "id": "274d1ea5",
   "metadata": {},
   "outputs": [],
   "source": []
  },
  {
   "cell_type": "code",
   "execution_count": null,
   "id": "a78e2930",
   "metadata": {},
   "outputs": [],
   "source": []
  },
  {
   "cell_type": "code",
   "execution_count": null,
   "id": "c4621d6b",
   "metadata": {},
   "outputs": [],
   "source": []
  }
 ],
 "metadata": {
  "kernelspec": {
   "display_name": "Python 3 (ipykernel)",
   "language": "python",
   "name": "python3"
  },
  "language_info": {
   "codemirror_mode": {
    "name": "ipython",
    "version": 3
   },
   "file_extension": ".py",
   "mimetype": "text/x-python",
   "name": "python",
   "nbconvert_exporter": "python",
   "pygments_lexer": "ipython3",
   "version": "3.9.7"
  }
 },
 "nbformat": 4,
 "nbformat_minor": 5
}
